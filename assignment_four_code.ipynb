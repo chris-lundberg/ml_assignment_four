{
 "metadata": {
  "language_info": {
   "codemirror_mode": {
    "name": "ipython",
    "version": 3
   },
   "file_extension": ".py",
   "mimetype": "text/x-python",
   "name": "python",
   "nbconvert_exporter": "python",
   "pygments_lexer": "ipython3",
   "version": "3.8.5-final"
  },
  "orig_nbformat": 2,
  "kernelspec": {
   "name": "python3",
   "display_name": "Python 3.8.5 64-bit ('base': conda)",
   "metadata": {
    "interpreter": {
     "hash": "dca0ade3e726a953b501b15e8e990130d2b7799f14cfd9f4271676035ebe5511"
    }
   }
  }
 },
 "nbformat": 4,
 "nbformat_minor": 2,
 "cells": [
  {
   "cell_type": "code",
   "execution_count": null,
   "metadata": {},
   "outputs": [],
   "source": [
    "# Import Modules\n",
    "import numpy as np\n",
    "import pandas as pd\n",
    "import seaborn as sns\n",
    "from hiive.mdptoolbox.mdp import PolicyIteration\n",
    "from hiive.mdptoolbox.mdp import ValueIteration\n",
    "from hiive.mdptoolbox.mdp import QLearning\n",
    "from hiive.mdptoolbox.example import forest\n",
    "from hiive.mdptoolbox.openai import OpenAI_MDPToolbox "
   ]
  },
  {
   "cell_type": "code",
   "execution_count": null,
   "metadata": {},
   "outputs": [],
   "source": [
    "# Define FrozenLake environment\n",
    "frozen_lake = OpenAI_MDPToolbox('FrozenLake-v1')"
   ]
  },
  {
   "cell_type": "code",
   "execution_count": null,
   "metadata": {},
   "outputs": [],
   "source": [
    "# FrozenLake Value Iteration Experiments\n",
    "def vi_frozen_lake_exp(gamma_vec, epsilon_vec=0.01):\n",
    "\n",
    "    if type(gamma_vec) is list:\n",
    "        df = pd.DataFrame(columns=['Iteration', 'Reward', 'Gamma'])\n",
    "        for gamma in gamma_vec:\n",
    "            vi = ValueIteration(frozen_lake.P, frozen_lake.R, gamma=gamma)\n",
    "            vi.run()\n",
    "            temp = pd.DataFrame(vi.run_stats)[['Iteration', 'Reward']]\n",
    "            temp['Gamma'] = np.repeat(gamma, len(temp))\n",
    "            df = pd.concat([df, temp])\n",
    "        df.to_csv('frozen_lake_vi_gamma.csv')\n",
    "    else:\n",
    "        df = pd.DataFrame(columns=['Iteration', 'Reward', 'Epsilon'])\n",
    "        for epsilon in epsilon_vec:\n",
    "            vi = ValueIteration(frozen_lake.P, frozen_lake.R, gamma=gamma_vec, epsilon=epsilon)\n",
    "            vi.run()\n",
    "            temp = pd.DataFrame(vi.run_stats)[['Iteration', 'Reward']]\n",
    "            temp['Epsilon'] = np.repeat(epsilon, len(temp))\n",
    "            df = pd.concat([df, temp])\n",
    "        df.to_csv('frozen_lake_vi_epsilon.csv')"
   ]
  },
  {
   "cell_type": "code",
   "execution_count": null,
   "metadata": {},
   "outputs": [],
   "source": [
    "# FrozenLake Policy Iteration Experiments\n",
    "def pi_frozen_lake_exp(gamma_vec):\n",
    "\n",
    "    if type(gamma_vec) is list:\n",
    "        df = pd.DataFrame(columns=['Iteration', 'Reward', 'Gamma'])\n",
    "        for gamma in gamma_vec:\n",
    "            pi = PolicyIteration(frozen_lake.P, frozen_lake.R, gamma=gamma, eval_type=1)\n",
    "            pi.run()\n",
    "            temp = pd.DataFrame(pi.run_stats)[['Iteration', 'Reward']]\n",
    "            temp['Gamma'] = np.repeat(gamma, len(temp))\n",
    "            df = pd.concat([df, temp])\n",
    "        df.to_csv('frozen_lake_pi_gamma.csv')"
   ]
  },
  {
   "cell_type": "code",
   "execution_count": null,
   "metadata": {},
   "outputs": [],
   "source": [
    "gamma_vec = [0.9, 0.95, 0.99]\n",
    "epsilon_vec = [0.1, 0.01, 0.001]\n",
    "vi_frozen_lake_exp(gamma_vec)\n",
    "pi_frozen_lake_exp(gamma_vec)\n",
    "vi_frozen_lake_exp(gamma_vec=0.99, epsilon_vec=epsilon_vec)"
   ]
  },
  {
   "cell_type": "code",
   "execution_count": null,
   "metadata": {},
   "outputs": [],
   "source": [
    "# Forest Value Iteration Experiments\n",
    "def vi_forest_exp(gamma_vec, num_states=1000):\n",
    "\n",
    "    if type(gamma_vec) is list:\n",
    "        df = pd.DataFrame(columns=['Iteration', 'Reward', 'Gamma'])\n",
    "        forest_P, forest_R = forest(num_states)\n",
    "        for gamma in gamma_vec:\n",
    "            vi = ValueIteration(forest_P, forest_R, gamma=gamma)\n",
    "            vi.run()\n",
    "            temp = pd.DataFrame(vi.run_stats)[['Iteration', 'Reward']]\n",
    "            temp['Gamma'] = np.repeat(gamma, len(temp))\n",
    "            df = pd.concat([df, temp])\n",
    "        df.to_csv('forest_vi_gamma.csv')\n",
    "    else:\n",
    "        df = pd.DataFrame(columns=['Iteration', 'Reward', 'States', 'Runtime', 'Iterations'])\n",
    "        for size in num_states:\n",
    "            forest_P, forest_R = forest(size)\n",
    "            vi = ValueIteration(forest_P, forest_R, gamma=gamma_vec)\n",
    "            vi.run()\n",
    "            temp = pd.DataFrame(vi.run_stats)[['Iteration', 'Reward']]\n",
    "            temp['States'] = np.repeat(size, len(temp))\n",
    "            temp['Runtime'] = np.repeat(vi.time, len(temp))\n",
    "            temp['Iterations'] = np.repeat(vi.iter, len(temp))\n",
    "            df = pd.concat([df, temp])\n",
    "        df.to_csv('forest_vi_size.csv')"
   ]
  },
  {
   "cell_type": "code",
   "execution_count": null,
   "metadata": {},
   "outputs": [],
   "source": [
    "# Forest Policy Iteration Experiments\n",
    "def pi_forest_exp(gamma_vec, num_states=1000):\n",
    "\n",
    "    if type(gamma_vec) is list:\n",
    "        df = pd.DataFrame(columns=['Iteration', 'Reward', 'Gamma'])\n",
    "        forest_P, forest_R = forest(num_states)\n",
    "        for gamma in gamma_vec:\n",
    "            pi = PolicyIteration(forest_P, forest_R, gamma=gamma, eval_type=1)\n",
    "            pi.run()\n",
    "            temp = pd.DataFrame(pi.run_stats)[['Iteration', 'Reward']]\n",
    "            temp['Gamma'] = np.repeat(gamma, len(temp))\n",
    "            df = pd.concat([df, temp])\n",
    "        df.to_csv('forest_pi_gamma.csv')\n",
    "    else:\n",
    "        df = pd.DataFrame(columns=['Iteration', 'Reward', 'States', 'Runtime', 'Iterations'])\n",
    "        for size in num_states:\n",
    "            forest_P, forest_R = forest(size)\n",
    "            pi = PolicyIteration(forest_P, forest_R, gamma=gamma_vec, eval_type=1)\n",
    "            pi.run()\n",
    "            temp = pd.DataFrame(pi.run_stats)[['Iteration', 'Reward']]\n",
    "            temp['States'] = np.repeat(size, len(temp))\n",
    "            temp['Runtime'] = np.repeat(pi.time, len(temp))\n",
    "            temp['Iterations'] = np.repeat(pi.iter, len(temp))\n",
    "            df = pd.concat([df, temp])\n",
    "        df.to_csv('forest_pi_size.csv')"
   ]
  },
  {
   "cell_type": "code",
   "execution_count": null,
   "metadata": {},
   "outputs": [],
   "source": [
    "gamma_vec = [0.9, 0.95, 0.99]\n",
    "num_states_vec = [20, 200, 1000, 2000, 5000, 10000]\n",
    "vi_forest_exp(gamma_vec)\n",
    "pi_forest_exp(gamma_vec)\n",
    "vi_forest_exp(gamma_vec=0.99, num_states=num_states_vec)\n",
    "pi_forest_exp(gamma_vec=0.99, num_states=num_states_vec)"
   ]
  },
  {
   "cell_type": "code",
   "execution_count": null,
   "metadata": {},
   "outputs": [],
   "source": [
    "# Compare Frozen Lake policies\n",
    "vi = ValueIteration(frozen_lake.P, frozen_lake.R, gamma=0.99)\n",
    "vi.run()\n",
    "pi = PolicyIteration(frozen_lake.P, frozen_lake.R, gamma=0.99, eval_type=1)\n",
    "pi.run()\n",
    "vi.policy == pi.policy"
   ]
  },
  {
   "cell_type": "code",
   "execution_count": null,
   "metadata": {},
   "outputs": [],
   "source": [
    "# Compare Forest policies\n",
    "forest_P, forest_R = forest(1000)\n",
    "vi = ValueIteration(forest_P, forest_R, gamma=0.99)\n",
    "vi.run()\n",
    "pi = PolicyIteration(forest_P, forest_R, gamma=0.99, eval_type=1)\n",
    "pi.run()\n",
    "vi.policy == pi.policy"
   ]
  },
  {
   "cell_type": "code",
   "execution_count": null,
   "metadata": {},
   "outputs": [],
   "source": [
    "# FrozenLake Q-Learning Experiments\n",
    "def ql_frozen_lake_exp(alpha_vec=0.1, epsilon_vec=1.0):\n",
    "\n",
    "    if type(alpha_vec) is list:\n",
    "        df = pd.DataFrame(columns=['Iteration', 'Mean V', 'Max V', 'Alpha Decay'])\n",
    "        for alpha_decay in alpha_vec:\n",
    "            ql = QLearning(frozen_lake.P, frozen_lake.R, gamma=0.99, alpha_decay=alpha_decay, n_iter=1000000)\n",
    "            ql.run()\n",
    "            temp = pd.DataFrame(ql.run_stats)[['Iteration', 'Mean V', 'Max V']]\n",
    "            temp['Alpha Decay'] = np.repeat(alpha_decay, len(temp))\n",
    "            df = pd.concat([df, temp])\n",
    "        df.to_csv('frozen_lake_ql_alpha_decay.csv')\n",
    "    else:\n",
    "        df = pd.DataFrame(columns=['Iteration', 'Mean V', 'Max V', 'Epsilon'])\n",
    "        for epsilon in epsilon_vec:\n",
    "            ql = QLearning(frozen_lake.P, frozen_lake.R, gamma=0.99, epsilon=epsilon, n_iter=1000000)\n",
    "            ql.run()\n",
    "            temp = pd.DataFrame(ql.run_stats)[['Iteration', 'Mean V', 'Max V']]\n",
    "            temp['Epsilon'] = np.repeat(epsilon, len(temp))\n",
    "            df = pd.concat([df, temp])\n",
    "        df.to_csv('frozen_lake_ql_epsilon.csv')"
   ]
  },
  {
   "cell_type": "code",
   "execution_count": null,
   "metadata": {},
   "outputs": [],
   "source": [
    "alpha_vec = [0.99, 0.95, 0.9]\n",
    "epsilon_vec = [1.0, 0.5, 0.25]\n",
    "ql_frozen_lake_exp(alpha_vec=alpha_vec)\n",
    "ql_frozen_lake_exp(epsilon_vec=epsilon_vec)"
   ]
  },
  {
   "cell_type": "code",
   "execution_count": null,
   "metadata": {},
   "outputs": [],
   "source": [
    "# Compare Frozen Lake policies\n",
    "ql = QLearning(frozen_lake.P, frozen_lake.R, gamma=0.99, epsilon=1.0, n_iter=3000000)\n",
    "ql.run()\n",
    "vi = ValueIteration(frozen_lake.P, frozen_lake.R, gamma=0.99)\n",
    "vi.run()\n",
    "pi = PolicyIteration(frozen_lake.P, frozen_lake.R, gamma=0.99, eval_type=1)\n",
    "pi.run()\n",
    "print(ql.policy)\n",
    "print(vi.policy)\n",
    "print(pi.policy)\n",
    "print('PI = QL? ', ql.policy == pi.policy)\n",
    "print('VI = QL? ', ql.policy == vi.policy)"
   ]
  },
  {
   "cell_type": "code",
   "execution_count": null,
   "metadata": {},
   "outputs": [],
   "source": [
    "# Forest Q-Learning Experiments\n",
    "def ql_forest_exp(epsilon_vec=1.0, num_states=1000):\n",
    "\n",
    "    if type(epsilon_vec) is list:\n",
    "        df = pd.DataFrame(columns=['Iteration', 'Max V', 'Epsilon', 'Time'])\n",
    "        forest_P, forest_R = forest(num_states)\n",
    "        for epsilon in epsilon_vec:\n",
    "            ql = QLearning(forest_P, forest_R, gamma=0.99, epsilon=epsilon, n_iter=1000000)\n",
    "            ql.run()\n",
    "            temp = pd.DataFrame(ql.run_stats)[['Iteration', 'Max V', 'Time']]\n",
    "            temp['Epsilon'] = np.repeat(epsilon, len(temp))\n",
    "            df = pd.concat([df, temp])\n",
    "        df.to_csv('forest_ql_epsilon.csv')\n",
    "    else:\n",
    "        df = pd.DataFrame(columns=['Iteration', 'Max V', 'Time', 'States'])\n",
    "        for size in num_states:\n",
    "            forest_P, forest_R = forest(size)\n",
    "            ql = QLearning(forest_P, forest_R, gamma=0.99, epsilon=1.0, n_iter=1000000)\n",
    "            ql.run()\n",
    "            temp = pd.DataFrame(ql.run_stats)[['Iteration', 'Max V', 'Time']]\n",
    "            temp['States'] = np.repeat(size, len(temp))\n",
    "            df = pd.concat([df, temp])\n",
    "        df.to_csv('forest_ql_size.csv')"
   ]
  },
  {
   "cell_type": "code",
   "execution_count": null,
   "metadata": {},
   "outputs": [],
   "source": [
    "epsilon_vec = [1.0, 0.5, 0.25]\n",
    "num_states_vec = [20, 200, 1000, 2000, 5000, 10000]\n",
    "ql_forest_exp(epsilon_vec=epsilon_vec)\n",
    "ql_forest_exp(num_states=num_states_vec)"
   ]
  },
  {
   "cell_type": "code",
   "execution_count": null,
   "metadata": {},
   "outputs": [],
   "source": [
    "# Compare Forest policies\n",
    "forest_P, forest_R = forest(1000)\n",
    "ql = QLearning(forest_P, forest_R, gamma=0.99, epsilon=1.0, n_iter=5000000)\n",
    "ql.run()\n",
    "vi = ValueIteration(forest_P, forest_R, gamma=0.99)\n",
    "vi.run()\n",
    "pi = PolicyIteration(forest_P, forest_R, gamma=0.99, eval_type=1)\n",
    "pi.run()\n",
    "print(ql.policy)\n",
    "print(vi.policy)\n",
    "print(pi.policy)\n",
    "print('PI = QL? ', ql.policy == pi.policy)\n",
    "print('VI = QL? ', ql.policy == vi.policy)\n"
   ]
  }
 ]
}